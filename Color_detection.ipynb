{
 "cells": [
  {
   "cell_type": "code",
   "execution_count": null,
   "id": "physical-correlation",
   "metadata": {},
   "outputs": [],
   "source": [
    "import cv2\n",
    "import pandas as pd"
   ]
  },
  {
   "cell_type": "code",
   "execution_count": null,
   "id": "personal-repository",
   "metadata": {},
   "outputs": [],
   "source": [
    "img_path = 'colorpic.jpg'\n",
    "csv_path = 'colors.csv'"
   ]
  },
  {
   "cell_type": "code",
   "execution_count": null,
   "id": "perfect-sociology",
   "metadata": {},
   "outputs": [],
   "source": [
    "# reading csv\n",
    "index = ['color', 'color_name', 'hex', 'R', 'G', 'B']\n",
    "df = pd.read_csv(csv_path, names=index, header=None)"
   ]
  },
  {
   "cell_type": "code",
   "execution_count": null,
   "id": "meaning-courtesy",
   "metadata": {},
   "outputs": [],
   "source": [
    "# reading image\n",
    "img = cv2.imread(img_path)\n",
    "img = cv2.resize(img, (800, 600))"
   ]
  },
  {
   "cell_type": "code",
   "execution_count": null,
   "id": "looking-lottery",
   "metadata": {},
   "outputs": [],
   "source": [
    "# declaring global variables\n",
    "clicked = False\n",
    "r = g = b = x_pos = y_pos = 0"
   ]
  },
  {
   "cell_type": "code",
   "execution_count": null,
   "id": "classical-sunset",
   "metadata": {},
   "outputs": [],
   "source": [
    "# function to calculate min dist from all colors and return color name\n",
    "def get_color_name(R,G,B):\n",
    "    minimum = 1000\n",
    "    for i in range(len(df)):\n",
    "        d = abs(R - int(df.loc[i, 'R'])) + abs(G - int(df.loc[i, 'G'])) + abs(B - int(df.loc[i, 'B']))\n",
    "        if d <= minimum:\n",
    "            minimum = d\n",
    "            cname = df.loc[i, 'color_name']\n",
    "    return cname"
   ]
  },
  {
   "cell_type": "code",
   "execution_count": null,
   "id": "toxic-thermal",
   "metadata": {},
   "outputs": [],
   "source": [
    "# function to calculate x,y coordinates of mouse double click\n",
    "def draw_function(event, x, y, flags, params):\n",
    "    if event == cv2.EVENT_LBUTTONDBLCLK:\n",
    "        global b, g, r, x_pos, y_pos, clicked\n",
    "        clicked = True\n",
    "        x_pos = x\n",
    "        y_pos = y\n",
    "        b, g, r = img[y, x]\n",
    "        b = int(b)\n",
    "        g = int(g)\n",
    "        r = int(r)\n",
    "\n",
    "# creating window\n",
    "cv2.namedWindow('image')\n",
    "cv2.setMouseCallback('image', draw_function)"
   ]
  },
  {
   "cell_type": "code",
   "execution_count": null,
   "id": "sized-toilet",
   "metadata": {},
   "outputs": [],
   "source": [
    "while True:\n",
    "    cv2.imshow('image', img)\n",
    "    if clicked:\n",
    "        cv2.rectangle(img, (20, 20), (600, 60), (b, g, r), -1)\n",
    "        text = get_color_name(r, g, b) + ' R=' + str(r) + ' G='+ str(g) + ' B='+ str(b)\n",
    "        cv2.putText(img, text, (50, 50), 2, 0.8, (255, 255, 255), 2, cv2.LINE_AA)\n",
    "\n",
    "        if r+g+b >= 600:\n",
    "            cv2.putText(img, text, (50, 50), 2, 0.8, (0, 0, 0), 2, cv2.LINE_AA)\n",
    "\n",
    "    if cv2.waitKey(10) & 0xFF == 27:\n",
    "        break\n",
    "\n",
    "cv2.destroyAllWindows()"
   ]
  },
  {
   "cell_type": "code",
   "execution_count": null,
   "id": "hydraulic-feature",
   "metadata": {},
   "outputs": [],
   "source": []
  }
 ],
 "metadata": {
  "kernelspec": {
   "display_name": "Python 3",
   "language": "python",
   "name": "python3"
  },
  "language_info": {
   "codemirror_mode": {
    "name": "ipython",
    "version": 3
   },
   "file_extension": ".py",
   "mimetype": "text/x-python",
   "name": "python",
   "nbconvert_exporter": "python",
   "pygments_lexer": "ipython3",
   "version": "3.7.9"
  }
 },
 "nbformat": 4,
 "nbformat_minor": 5
}
